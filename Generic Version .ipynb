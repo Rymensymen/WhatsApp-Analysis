{
 "cells": [
  {
   "cell_type": "code",
   "execution_count": 118,
   "metadata": {},
   "outputs": [],
   "source": [
    "import whatsapptojson\n",
    "import re\n",
    "import seaborn\n",
    "import matplotlib.pyplot as plt\n",
    "import datetime\n",
    "import pandas as pd"
   ]
  },
  {
   "cell_type": "code",
   "execution_count": 101,
   "metadata": {},
   "outputs": [],
   "source": [
    "#Put in the name of the file with your chat data\n",
    "chatname=''"
   ]
  },
  {
   "cell_type": "code",
   "execution_count": 102,
   "metadata": {},
   "outputs": [],
   "source": [
    "#Depending on the country you are from it could be that the date is saved differently. \n",
    "#Have a look at the txt. file you exported from WhatsApp and adapt it if necessary \n",
    "def startsWithDate(s):\n",
    "    pattern = '^([0-2][0-9]|(3)[0-1])(\\.)(((0)[0-9])|((1)[0-2]))(\\.)(\\d{2}|\\d{4}), ([0-9][0-9]):([0-9][0-9]) -'\n",
    "    result = re.match(pattern, s)\n",
    "    if result:\n",
    "        return True\n",
    "    return False"
   ]
  },
  {
   "cell_type": "code",
   "execution_count": 103,
   "metadata": {},
   "outputs": [],
   "source": [
    "def startsWithAuthor(s):\n",
    "    patterns = [\n",
    "        '([\\w]+):',                        # First Name\n",
    "        '([\\w]+[\\s]+[\\w]+):',              # First Name + Last Name\n",
    "        '([\\w]+[\\s]+[\\w]+[\\s]+[\\w]+):',    # First Name + Middle Name + Last Name\n",
    "        '([+]\\d{2} \\d{5} \\d{5}):',         # Mobile Number (India)\n",
    "        '([+]\\d{2} \\d{3} \\d{3} \\d{4}):',   # Mobile Number (US)\n",
    "        '([+]\\d{2} \\d{4} \\d{7})'           # Mobile Number (Europe)\n",
    "    ]\n",
    "    pattern = '^' + '|'.join(patterns)\n",
    "    result = re.match(pattern, s)\n",
    "    if result:\n",
    "        return True\n",
    "    return False\n"
   ]
  },
  {
   "cell_type": "code",
   "execution_count": 104,
   "metadata": {},
   "outputs": [],
   "source": [
    "def getDataPoint(line):\n",
    "    # line = 18/06/17, 22:47 - Loki: Why do you have 2 numbers, Banner?\n",
    "    \n",
    "    splitLine = line.split(' - ') # splitLine = ['18/06/17, 22:47', 'Loki: Why do you have 2 numbers, Banner?']\n",
    "    \n",
    "    dateTime = splitLine[0] # dateTime = '18/06/17, 22:47'\n",
    "    \n",
    "    date, time = dateTime.split(', ') # date = '18/06/17'; time = '22:47'\n",
    "    \n",
    "    message = ' '.join(splitLine[1:]) # message = 'Loki: Why do you have 2 numbers, Banner?'\n",
    "    \n",
    "    if startsWithAuthor(message): # True\n",
    "        splitMessage = message.split(': ') # splitMessage = ['Loki', 'Why do you have 2 numbers, Banner?']\n",
    "        author = splitMessage[0] # author = 'Loki'\n",
    "        message = ' '.join(splitMessage[1:]) # message = 'Why do you have 2 numbers, Banner?'\n",
    "    else:\n",
    "        author = None\n",
    "    return date, time, author, message"
   ]
  },
  {
   "cell_type": "code",
   "execution_count": 105,
   "metadata": {},
   "outputs": [],
   "source": [
    "parsedData = [] # List to keep track of data so it can be used by a Pandas dataframe\n",
    "conversationPath = chatname\n",
    "with open(conversationPath, encoding=\"utf-8\") as fp:\n",
    "    fp.readline() # Skipping first line of the file (usually contains information about end-to-end encryption)\n",
    "        \n",
    "    messageBuffer = [] # Buffer to capture intermediate output for multi-line messages\n",
    "    date, time, author = None, None, None # Intermediate variables to keep track of the current message being processed\n",
    "    \n",
    "    while True:\n",
    "        line = fp.readline() \n",
    "        if not line: # Stop reading further if end of file has been reached\n",
    "            break\n",
    "        line = line.strip() # Guarding against erroneous leading and trailing whitespaces\n",
    "        if startsWithDate(line): # If a line starts with a Date Time pattern, then this indicates the beginning of a new message\n",
    "            if len(messageBuffer) > 0: # Check if the message buffer contains characters from previous iterations\n",
    "                parsedData.append([date, time, author, ' '.join(messageBuffer)]) # Save the tokens from the previous message in parsedData\n",
    "            messageBuffer.clear() # Clear the message buffer so that it can be used for the next message\n",
    "            date, time, author, message = getDataPoint(line) # Identify and extract tokens from the line\n",
    "            messageBuffer.append(message) # Append message to buffer\n",
    "        else:\n",
    "            messageBuffer.append(line) # If a line doesn't start with a Date Time pattern, then it is part of a multi-line message. So, just append to buffer\n"
   ]
  },
  {
   "cell_type": "code",
   "execution_count": 106,
   "metadata": {},
   "outputs": [
    {
     "data": {
      "text/html": [
       "<div>\n",
       "<style scoped>\n",
       "    .dataframe tbody tr th:only-of-type {\n",
       "        vertical-align: middle;\n",
       "    }\n",
       "\n",
       "    .dataframe tbody tr th {\n",
       "        vertical-align: top;\n",
       "    }\n",
       "\n",
       "    .dataframe thead th {\n",
       "        text-align: right;\n",
       "    }\n",
       "</style>\n",
       "<table border=\"1\" class=\"dataframe\">\n",
       "  <thead>\n",
       "    <tr style=\"text-align: right;\">\n",
       "      <th></th>\n",
       "      <th>Date</th>\n",
       "      <th>Time</th>\n",
       "      <th>Author</th>\n",
       "      <th>Message</th>\n",
       "    </tr>\n",
       "  </thead>\n",
       "  <tbody>\n",
       "    <tr>\n",
       "      <td>0</td>\n",
       "      <td>23.03.15</td>\n",
       "      <td>19:00</td>\n",
       "      <td>None</td>\n",
       "      <td>‎Johanna Schleder hat die Gruppe „Family🙈❤“ er...</td>\n",
       "    </tr>\n",
       "    <tr>\n",
       "      <td>1</td>\n",
       "      <td>05.09.16</td>\n",
       "      <td>21:00</td>\n",
       "      <td>None</td>\n",
       "      <td>‎Johanna Schleder hat dich hinzugefügt.</td>\n",
       "    </tr>\n",
       "    <tr>\n",
       "      <td>2</td>\n",
       "      <td>05.09.16</td>\n",
       "      <td>20:29</td>\n",
       "      <td>Heinrich Gotthard</td>\n",
       "      <td>&lt;Medien ausgeschlossen&gt;</td>\n",
       "    </tr>\n",
       "    <tr>\n",
       "      <td>3</td>\n",
       "      <td>05.09.16</td>\n",
       "      <td>21:41</td>\n",
       "      <td>Mama</td>\n",
       "      <td>😄</td>\n",
       "    </tr>\n",
       "    <tr>\n",
       "      <td>4</td>\n",
       "      <td>05.09.16</td>\n",
       "      <td>22:49</td>\n",
       "      <td>Johanna Schleder</td>\n",
       "      <td>Schau mal, was Susi an die Akk-MM-Gruppe gesch...</td>\n",
       "    </tr>\n",
       "    <tr>\n",
       "      <td>5</td>\n",
       "      <td>05.09.16</td>\n",
       "      <td>22:49</td>\n",
       "      <td>Johanna Schleder</td>\n",
       "      <td>Also ich bin mit der Zimmer Aufteilung sehr zu...</td>\n",
       "    </tr>\n",
       "    <tr>\n",
       "      <td>6</td>\n",
       "      <td>05.09.16</td>\n",
       "      <td>22:51</td>\n",
       "      <td>Mama</td>\n",
       "      <td>Hab' s gesehen 😂👍🏻</td>\n",
       "    </tr>\n",
       "    <tr>\n",
       "      <td>7</td>\n",
       "      <td>05.09.16</td>\n",
       "      <td>22:55</td>\n",
       "      <td>Johanna Schleder</td>\n",
       "      <td>Wie schade, dass Oma kein WhatsApp hat. Das is...</td>\n",
       "    </tr>\n",
       "    <tr>\n",
       "      <td>8</td>\n",
       "      <td>05.09.16</td>\n",
       "      <td>22:55</td>\n",
       "      <td>Mama</td>\n",
       "      <td>Stimmt 😉</td>\n",
       "    </tr>\n",
       "    <tr>\n",
       "      <td>9</td>\n",
       "      <td>21.09.16</td>\n",
       "      <td>22:05</td>\n",
       "      <td>Katharina Schleder</td>\n",
       "      <td>&lt;Medien ausgeschlossen&gt;</td>\n",
       "    </tr>\n",
       "  </tbody>\n",
       "</table>\n",
       "</div>"
      ],
      "text/plain": [
       "       Date   Time              Author  \\\n",
       "0  23.03.15  19:00                None   \n",
       "1  05.09.16  21:00                None   \n",
       "2  05.09.16  20:29   Heinrich Gotthard   \n",
       "3  05.09.16  21:41                Mama   \n",
       "4  05.09.16  22:49    Johanna Schleder   \n",
       "5  05.09.16  22:49    Johanna Schleder   \n",
       "6  05.09.16  22:51                Mama   \n",
       "7  05.09.16  22:55    Johanna Schleder   \n",
       "8  05.09.16  22:55                Mama   \n",
       "9  21.09.16  22:05  Katharina Schleder   \n",
       "\n",
       "                                             Message  \n",
       "0  ‎Johanna Schleder hat die Gruppe „Family🙈❤“ er...  \n",
       "1            ‎Johanna Schleder hat dich hinzugefügt.  \n",
       "2                            <Medien ausgeschlossen>  \n",
       "3                                                  😄  \n",
       "4  Schau mal, was Susi an die Akk-MM-Gruppe gesch...  \n",
       "5  Also ich bin mit der Zimmer Aufteilung sehr zu...  \n",
       "6                                 Hab' s gesehen 😂👍🏻  \n",
       "7  Wie schade, dass Oma kein WhatsApp hat. Das is...  \n",
       "8                                           Stimmt 😉  \n",
       "9                            <Medien ausgeschlossen>  "
      ]
     },
     "execution_count": 106,
     "metadata": {},
     "output_type": "execute_result"
    }
   ],
   "source": [
    "df = pd.DataFrame(parsedData, columns=['Date', 'Time', 'Author', 'Message'])\n",
    "df.head(10)\n",
    "\n",
    "\n",
    "      "
   ]
  },
  {
   "cell_type": "markdown",
   "metadata": {},
   "source": [
    "**Data Exploration**"
   ]
  },
  {
   "cell_type": "code",
   "execution_count": 107,
   "metadata": {},
   "outputs": [
    {
     "data": {
      "text/html": [
       "<div>\n",
       "<style scoped>\n",
       "    .dataframe tbody tr th:only-of-type {\n",
       "        vertical-align: middle;\n",
       "    }\n",
       "\n",
       "    .dataframe tbody tr th {\n",
       "        vertical-align: top;\n",
       "    }\n",
       "\n",
       "    .dataframe thead th {\n",
       "        text-align: right;\n",
       "    }\n",
       "</style>\n",
       "<table border=\"1\" class=\"dataframe\">\n",
       "  <thead>\n",
       "    <tr style=\"text-align: right;\">\n",
       "      <th></th>\n",
       "      <th>Date</th>\n",
       "      <th>Time</th>\n",
       "      <th>Author</th>\n",
       "      <th>Message</th>\n",
       "    </tr>\n",
       "  </thead>\n",
       "  <tbody>\n",
       "    <tr>\n",
       "      <td>count</td>\n",
       "      <td>3924</td>\n",
       "      <td>3924</td>\n",
       "      <td>3908</td>\n",
       "      <td>3924</td>\n",
       "    </tr>\n",
       "    <tr>\n",
       "      <td>unique</td>\n",
       "      <td>571</td>\n",
       "      <td>993</td>\n",
       "      <td>11</td>\n",
       "      <td>2474</td>\n",
       "    </tr>\n",
       "    <tr>\n",
       "      <td>top</td>\n",
       "      <td>25.07.19</td>\n",
       "      <td>20:06</td>\n",
       "      <td>Mama</td>\n",
       "      <td>&lt;Medien ausgeschlossen&gt;</td>\n",
       "    </tr>\n",
       "    <tr>\n",
       "      <td>freq</td>\n",
       "      <td>53</td>\n",
       "      <td>16</td>\n",
       "      <td>1042</td>\n",
       "      <td>874</td>\n",
       "    </tr>\n",
       "  </tbody>\n",
       "</table>\n",
       "</div>"
      ],
      "text/plain": [
       "            Date   Time Author                  Message\n",
       "count       3924   3924   3908                     3924\n",
       "unique       571    993     11                     2474\n",
       "top     25.07.19  20:06   Mama  <Medien ausgeschlossen>\n",
       "freq          53     16   1042                      874"
      ]
     },
     "execution_count": 107,
     "metadata": {},
     "output_type": "execute_result"
    }
   ],
   "source": [
    "df.describe()"
   ]
  },
  {
   "cell_type": "code",
   "execution_count": 112,
   "metadata": {},
   "outputs": [
    {
     "data": {
      "text/plain": [
       "<matplotlib.axes._subplots.AxesSubplot at 0x251fa9f3948>"
      ]
     },
     "execution_count": 112,
     "metadata": {},
     "output_type": "execute_result"
    },
    {
     "data": {
      "image/png": "[encoded data removed]",
      "text/plain": [
       "<Figure size 432x288 with 1 Axes>"
      ]
     },
     "metadata": {
      "needs_background": "light"
     },
     "output_type": "display_data"
    }
   ],
   "source": [
    "author_value_counts = df['Author'].value_counts() # Number of messages per author\n",
    "top_7_author_value_counts = author_value_counts.head(15) # Number of messages per author for the top 10 most active authors\n",
    "top_7_author_value_counts=top_7_author_value_counts.sort_values(ascending=True)\n",
    "top_7_author_value_counts.plot.barh() # Plot a bar chart using pandas built-in plotting apis"
   ]
  },
  {
   "cell_type": "code",
   "execution_count": 109,
   "metadata": {},
   "outputs": [
    {
     "data": {
      "text/html": [
       "<div>\n",
       "<style scoped>\n",
       "    .dataframe tbody tr th:only-of-type {\n",
       "        vertical-align: middle;\n",
       "    }\n",
       "\n",
       "    .dataframe tbody tr th {\n",
       "        vertical-align: top;\n",
       "    }\n",
       "\n",
       "    .dataframe thead th {\n",
       "        text-align: right;\n",
       "    }\n",
       "</style>\n",
       "<table border=\"1\" class=\"dataframe\">\n",
       "  <thead>\n",
       "    <tr style=\"text-align: right;\">\n",
       "      <th></th>\n",
       "      <th>Date</th>\n",
       "      <th>Time</th>\n",
       "      <th>Author</th>\n",
       "      <th>Message</th>\n",
       "    </tr>\n",
       "  </thead>\n",
       "  <tbody>\n",
       "    <tr>\n",
       "      <td>0</td>\n",
       "      <td>23.03.15</td>\n",
       "      <td>19:00</td>\n",
       "      <td>None</td>\n",
       "      <td>‎Johanna Schleder hat die Gruppe „Family🙈❤“ er...</td>\n",
       "    </tr>\n",
       "    <tr>\n",
       "      <td>1</td>\n",
       "      <td>05.09.16</td>\n",
       "      <td>21:00</td>\n",
       "      <td>None</td>\n",
       "      <td>‎Johanna Schleder hat dich hinzugefügt.</td>\n",
       "    </tr>\n",
       "    <tr>\n",
       "      <td>327</td>\n",
       "      <td>06.01.17</td>\n",
       "      <td>00:27</td>\n",
       "      <td>None</td>\n",
       "      <td>‎Johanna Schleder hat +49 1512 2096092 entfernt.</td>\n",
       "    </tr>\n",
       "    <tr>\n",
       "      <td>477</td>\n",
       "      <td>02.03.17</td>\n",
       "      <td>19:12</td>\n",
       "      <td>None</td>\n",
       "      <td>‎Johanna Schleder hat Ewald Schleder hinzugefügt.</td>\n",
       "    </tr>\n",
       "    <tr>\n",
       "      <td>551</td>\n",
       "      <td>22.03.17</td>\n",
       "      <td>16:35</td>\n",
       "      <td>None</td>\n",
       "      <td>‎Johanna Schleder hat Maria Gotthard hinzugefügt.</td>\n",
       "    </tr>\n",
       "  </tbody>\n",
       "</table>\n",
       "</div>"
      ],
      "text/plain": [
       "         Date   Time Author                                            Message\n",
       "0    23.03.15  19:00   None  ‎Johanna Schleder hat die Gruppe „Family🙈❤“ er...\n",
       "1    05.09.16  21:00   None            ‎Johanna Schleder hat dich hinzugefügt.\n",
       "327  06.01.17  00:27   None   ‎Johanna Schleder hat +49 1512 2096092 entfernt.\n",
       "477  02.03.17  19:12   None  ‎Johanna Schleder hat Ewald Schleder hinzugefügt.\n",
       "551  22.03.17  16:35   None  ‎Johanna Schleder hat Maria Gotthard hinzugefügt."
      ]
     },
     "execution_count": 109,
     "metadata": {},
     "output_type": "execute_result"
    }
   ],
   "source": [
    "\n",
    "null_authors_df = df[df['Author'].isnull()]\n",
    "null_authors_df.head()\n"
   ]
  },
  {
   "cell_type": "code",
   "execution_count": 113,
   "metadata": {},
   "outputs": [
    {
     "name": "stdout",
     "output_type": "stream",
     "text": [
      "        Date   Time              Author                  Message\n",
      "2   05.09.16  20:29   Heinrich Gotthard  <Medien ausgeschlossen>\n",
      "9   21.09.16  22:05  Katharina Schleder  <Medien ausgeschlossen>\n",
      "17  22.09.16  20:36       Simon Schmitz  <Medien ausgeschlossen>\n",
      "21  01.10.16  21:17    Susanna Schleder  <Medien ausgeschlossen>\n",
      "22  01.10.16  22:20  Katharina Schleder  <Medien ausgeschlossen>\n"
     ]
    },
    {
     "data": {
      "text/plain": [
       "<matplotlib.axes._subplots.AxesSubplot at 0x251fab82548>"
      ]
     },
     "execution_count": 113,
     "metadata": {},
     "output_type": "execute_result"
    },
    {
     "data": {
      "image/png": "[encoded data removed]",
      "text/plain": [
       "<Figure size 432x288 with 1 Axes>"
      ]
     },
     "metadata": {
      "needs_background": "light"
     },
     "output_type": "display_data"
    }
   ],
   "source": [
    "#Adapt this to your language. Because my WhatsApp is set to German the file contains '<Medien ausgeschlossen>' as a placeholder\n",
    "#for media files which weren't included in the export. Have a look to your file to see what the equivalent in your language is\n",
    "media_messages_df = df[df['Message'] == '<Medien ausgeschlossen>']\n",
    "print(media_messages_df.head())\n",
    "\n",
    "author_media_messages_value_counts = media_messages_df['Author'].value_counts()\n",
    "top_10_author_media_messages_value_counts = author_media_messages_value_counts.head(10)\n",
    "top_10_author_media_messages_value_counts=top_10_author_media_messages_value_counts.sort_values(ascending=True)\n",
    "top_10_author_media_messages_value_counts.plot.barh()"
   ]
  },
  {
   "cell_type": "markdown",
   "metadata": {},
   "source": [
    "**Data Cleaning**\n"
   ]
  },
  {
   "cell_type": "code",
   "execution_count": 92,
   "metadata": {},
   "outputs": [
    {
     "data": {
      "text/html": [
       "<div>\n",
       "<style scoped>\n",
       "    .dataframe tbody tr th:only-of-type {\n",
       "        vertical-align: middle;\n",
       "    }\n",
       "\n",
       "    .dataframe tbody tr th {\n",
       "        vertical-align: top;\n",
       "    }\n",
       "\n",
       "    .dataframe thead th {\n",
       "        text-align: right;\n",
       "    }\n",
       "</style>\n",
       "<table border=\"1\" class=\"dataframe\">\n",
       "  <thead>\n",
       "    <tr style=\"text-align: right;\">\n",
       "      <th></th>\n",
       "      <th>Date</th>\n",
       "      <th>Time</th>\n",
       "      <th>Author</th>\n",
       "      <th>Message</th>\n",
       "    </tr>\n",
       "  </thead>\n",
       "  <tbody>\n",
       "    <tr>\n",
       "      <td>2</td>\n",
       "      <td>01.09.16</td>\n",
       "      <td>15:11</td>\n",
       "      <td>Dreni Mehani</td>\n",
       "      <td>Jawoll Simon wieder back</td>\n",
       "    </tr>\n",
       "    <tr>\n",
       "      <td>3</td>\n",
       "      <td>01.09.16</td>\n",
       "      <td>16:14</td>\n",
       "      <td>Dreni Mehani</td>\n",
       "      <td>Begeisterung hält sich in Grenzen</td>\n",
       "    </tr>\n",
       "    <tr>\n",
       "      <td>4</td>\n",
       "      <td>01.09.16</td>\n",
       "      <td>16:14</td>\n",
       "      <td>Dreni Mehani</td>\n",
       "      <td>Kopf hoch simon</td>\n",
       "    </tr>\n",
       "    <tr>\n",
       "      <td>5</td>\n",
       "      <td>01.09.16</td>\n",
       "      <td>16:30</td>\n",
       "      <td>Simon Schmitz</td>\n",
       "      <td>Haha komm ich mit klar trotzdem danke meh 😄😘</td>\n",
       "    </tr>\n",
       "    <tr>\n",
       "      <td>6</td>\n",
       "      <td>01.09.16</td>\n",
       "      <td>16:31</td>\n",
       "      <td>Dreni Mehani</td>\n",
       "      <td>Wie war es denn</td>\n",
       "    </tr>\n",
       "  </tbody>\n",
       "</table>\n",
       "</div>"
      ],
      "text/plain": [
       "       Date   Time         Author  \\\n",
       "2  01.09.16  15:11   Dreni Mehani   \n",
       "3  01.09.16  16:14   Dreni Mehani   \n",
       "4  01.09.16  16:14   Dreni Mehani   \n",
       "5  01.09.16  16:30  Simon Schmitz   \n",
       "6  01.09.16  16:31   Dreni Mehani   \n",
       "\n",
       "                                        Message  \n",
       "2                      Jawoll Simon wieder back  \n",
       "3             Begeisterung hält sich in Grenzen  \n",
       "4                               Kopf hoch simon  \n",
       "5  Haha komm ich mit klar trotzdem danke meh 😄😘  \n",
       "6                               Wie war es denn  "
      ]
     },
     "execution_count": 92,
     "metadata": {},
     "output_type": "execute_result"
    }
   ],
   "source": [
    "#Added the axis argument because the default argument for drop is to drop columns not rows\n",
    "\n",
    "messages_df = df.drop(null_authors_df.index,axis=0) # Drops all rows of the data frame containing messages from null authors\n",
    "messages_df = messages_df.drop(media_messages_df.index) # Drops all rows of the data frame containing media messages\n",
    "messages_df.head()"
   ]
  },
  {
   "cell_type": "markdown",
   "metadata": {},
   "source": [
    "**Data Augmentation**"
   ]
  },
  {
   "cell_type": "code",
   "execution_count": 93,
   "metadata": {},
   "outputs": [],
   "source": [
    "\n",
    "messages_df['Letter_Count'] = messages_df['Message'].apply(lambda s : len(s))\n",
    "messages_df['Word_Count'] = messages_df['Message'].apply(lambda s : len(s.split(' ')))\n"
   ]
  },
  {
   "cell_type": "code",
   "execution_count": 94,
   "metadata": {},
   "outputs": [
    {
     "data": {
      "text/html": [
       "<div>\n",
       "<style scoped>\n",
       "    .dataframe tbody tr th:only-of-type {\n",
       "        vertical-align: middle;\n",
       "    }\n",
       "\n",
       "    .dataframe tbody tr th {\n",
       "        vertical-align: top;\n",
       "    }\n",
       "\n",
       "    .dataframe thead th {\n",
       "        text-align: right;\n",
       "    }\n",
       "</style>\n",
       "<table border=\"1\" class=\"dataframe\">\n",
       "  <thead>\n",
       "    <tr style=\"text-align: right;\">\n",
       "      <th></th>\n",
       "      <th>Letter_Count</th>\n",
       "      <th>Word_Count</th>\n",
       "    </tr>\n",
       "  </thead>\n",
       "  <tbody>\n",
       "    <tr>\n",
       "      <td>count</td>\n",
       "      <td>15059.000000</td>\n",
       "      <td>15059.000000</td>\n",
       "    </tr>\n",
       "    <tr>\n",
       "      <td>mean</td>\n",
       "      <td>32.012484</td>\n",
       "      <td>6.001859</td>\n",
       "    </tr>\n",
       "    <tr>\n",
       "      <td>std</td>\n",
       "      <td>34.834533</td>\n",
       "      <td>6.086910</td>\n",
       "    </tr>\n",
       "    <tr>\n",
       "      <td>min</td>\n",
       "      <td>1.000000</td>\n",
       "      <td>1.000000</td>\n",
       "    </tr>\n",
       "    <tr>\n",
       "      <td>25%</td>\n",
       "      <td>11.000000</td>\n",
       "      <td>2.000000</td>\n",
       "    </tr>\n",
       "    <tr>\n",
       "      <td>50%</td>\n",
       "      <td>23.000000</td>\n",
       "      <td>4.000000</td>\n",
       "    </tr>\n",
       "    <tr>\n",
       "      <td>75%</td>\n",
       "      <td>41.000000</td>\n",
       "      <td>8.000000</td>\n",
       "    </tr>\n",
       "    <tr>\n",
       "      <td>max</td>\n",
       "      <td>778.000000</td>\n",
       "      <td>124.000000</td>\n",
       "    </tr>\n",
       "  </tbody>\n",
       "</table>\n",
       "</div>"
      ],
      "text/plain": [
       "       Letter_Count    Word_Count\n",
       "count  15059.000000  15059.000000\n",
       "mean      32.012484      6.001859\n",
       "std       34.834533      6.086910\n",
       "min        1.000000      1.000000\n",
       "25%       11.000000      2.000000\n",
       "50%       23.000000      4.000000\n",
       "75%       41.000000      8.000000\n",
       "max      778.000000    124.000000"
      ]
     },
     "execution_count": 94,
     "metadata": {},
     "output_type": "execute_result"
    }
   ],
   "source": [
    "\n",
    "discrete_columns = ['Date', 'Time', 'Author', 'Message']\n",
    "messages_df[discrete_columns].describe()\n",
    "\n",
    "continuous_columns = ['Letter_Count', 'Word_Count']\n",
    "messages_df[continuous_columns].describe()"
   ]
  },
  {
   "cell_type": "code",
   "execution_count": 95,
   "metadata": {},
   "outputs": [
    {
     "data": {
      "text/plain": [
       "(482076, 90382)"
      ]
     },
     "execution_count": 95,
     "metadata": {},
     "output_type": "execute_result"
    }
   ],
   "source": [
    "messages_df['Letter_Count'].sum(), messages_df['Word_Count'].sum()"
   ]
  },
  {
   "cell_type": "markdown",
   "metadata": {},
   "source": [
    "This next step transforms the Date column to a date object to allow further analysis with it\n",
    "\n"
   ]
  },
  {
   "cell_type": "code",
   "execution_count": 96,
   "metadata": {},
   "outputs": [],
   "source": [
    "messages_df['Date'] = messages_df['Date'].apply(pd.to_datetime)\n"
   ]
  },
  {
   "cell_type": "code",
   "execution_count": 97,
   "metadata": {},
   "outputs": [
    {
     "data": {
      "text/html": [
       "<div>\n",
       "<style scoped>\n",
       "    .dataframe tbody tr th:only-of-type {\n",
       "        vertical-align: middle;\n",
       "    }\n",
       "\n",
       "    .dataframe tbody tr th {\n",
       "        vertical-align: top;\n",
       "    }\n",
       "\n",
       "    .dataframe thead th {\n",
       "        text-align: right;\n",
       "    }\n",
       "</style>\n",
       "<table border=\"1\" class=\"dataframe\">\n",
       "  <thead>\n",
       "    <tr style=\"text-align: right;\">\n",
       "      <th></th>\n",
       "      <th>Date</th>\n",
       "      <th>Time</th>\n",
       "      <th>Author</th>\n",
       "      <th>Message</th>\n",
       "      <th>Letter_Count</th>\n",
       "      <th>Word_Count</th>\n",
       "    </tr>\n",
       "  </thead>\n",
       "  <tbody>\n",
       "    <tr>\n",
       "      <td>2</td>\n",
       "      <td>2016-01-09</td>\n",
       "      <td>15:11</td>\n",
       "      <td>Dreni Mehani</td>\n",
       "      <td>Jawoll Simon wieder back</td>\n",
       "      <td>24</td>\n",
       "      <td>4</td>\n",
       "    </tr>\n",
       "    <tr>\n",
       "      <td>3</td>\n",
       "      <td>2016-01-09</td>\n",
       "      <td>16:14</td>\n",
       "      <td>Dreni Mehani</td>\n",
       "      <td>Begeisterung hält sich in Grenzen</td>\n",
       "      <td>33</td>\n",
       "      <td>5</td>\n",
       "    </tr>\n",
       "    <tr>\n",
       "      <td>4</td>\n",
       "      <td>2016-01-09</td>\n",
       "      <td>16:14</td>\n",
       "      <td>Dreni Mehani</td>\n",
       "      <td>Kopf hoch simon</td>\n",
       "      <td>15</td>\n",
       "      <td>3</td>\n",
       "    </tr>\n",
       "    <tr>\n",
       "      <td>5</td>\n",
       "      <td>2016-01-09</td>\n",
       "      <td>16:30</td>\n",
       "      <td>Simon Schmitz</td>\n",
       "      <td>Haha komm ich mit klar trotzdem danke meh 😄😘</td>\n",
       "      <td>44</td>\n",
       "      <td>9</td>\n",
       "    </tr>\n",
       "    <tr>\n",
       "      <td>6</td>\n",
       "      <td>2016-01-09</td>\n",
       "      <td>16:31</td>\n",
       "      <td>Dreni Mehani</td>\n",
       "      <td>Wie war es denn</td>\n",
       "      <td>15</td>\n",
       "      <td>4</td>\n",
       "    </tr>\n",
       "    <tr>\n",
       "      <td>7</td>\n",
       "      <td>2016-01-09</td>\n",
       "      <td>16:31</td>\n",
       "      <td>Dreni Mehani</td>\n",
       "      <td>Paar korrekte storys</td>\n",
       "      <td>20</td>\n",
       "      <td>3</td>\n",
       "    </tr>\n",
       "    <tr>\n",
       "      <td>8</td>\n",
       "      <td>2016-01-09</td>\n",
       "      <td>16:43</td>\n",
       "      <td>Simon Schmitz</td>\n",
       "      <td>Aus Amerika ?</td>\n",
       "      <td>13</td>\n",
       "      <td>3</td>\n",
       "    </tr>\n",
       "    <tr>\n",
       "      <td>9</td>\n",
       "      <td>2016-01-09</td>\n",
       "      <td>16:45</td>\n",
       "      <td>Dreni Mehani</td>\n",
       "      <td>Ne orenhofen</td>\n",
       "      <td>12</td>\n",
       "      <td>2</td>\n",
       "    </tr>\n",
       "    <tr>\n",
       "      <td>10</td>\n",
       "      <td>2016-01-09</td>\n",
       "      <td>16:45</td>\n",
       "      <td>Dreni Mehani</td>\n",
       "      <td>Ja sicha junge! 😂😂❤</td>\n",
       "      <td>19</td>\n",
       "      <td>4</td>\n",
       "    </tr>\n",
       "    <tr>\n",
       "      <td>11</td>\n",
       "      <td>2016-01-09</td>\n",
       "      <td>16:47</td>\n",
       "      <td>Simon Schmitz</td>\n",
       "      <td>Naja abgesehen von dem Einbruch wars ziemlich ...</td>\n",
       "      <td>53</td>\n",
       "      <td>9</td>\n",
       "    </tr>\n",
       "  </tbody>\n",
       "</table>\n",
       "</div>"
      ],
      "text/plain": [
       "         Date   Time         Author  \\\n",
       "2  2016-01-09  15:11   Dreni Mehani   \n",
       "3  2016-01-09  16:14   Dreni Mehani   \n",
       "4  2016-01-09  16:14   Dreni Mehani   \n",
       "5  2016-01-09  16:30  Simon Schmitz   \n",
       "6  2016-01-09  16:31   Dreni Mehani   \n",
       "7  2016-01-09  16:31   Dreni Mehani   \n",
       "8  2016-01-09  16:43  Simon Schmitz   \n",
       "9  2016-01-09  16:45   Dreni Mehani   \n",
       "10 2016-01-09  16:45   Dreni Mehani   \n",
       "11 2016-01-09  16:47  Simon Schmitz   \n",
       "\n",
       "                                              Message  Letter_Count  \\\n",
       "2                            Jawoll Simon wieder back            24   \n",
       "3                   Begeisterung hält sich in Grenzen            33   \n",
       "4                                     Kopf hoch simon            15   \n",
       "5        Haha komm ich mit klar trotzdem danke meh 😄😘            44   \n",
       "6                                     Wie war es denn            15   \n",
       "7                                Paar korrekte storys            20   \n",
       "8                                       Aus Amerika ?            13   \n",
       "9                                        Ne orenhofen            12   \n",
       "10                                Ja sicha junge! 😂😂❤            19   \n",
       "11  Naja abgesehen von dem Einbruch wars ziemlich ...            53   \n",
       "\n",
       "    Word_Count  \n",
       "2            4  \n",
       "3            5  \n",
       "4            3  \n",
       "5            9  \n",
       "6            4  \n",
       "7            3  \n",
       "8            3  \n",
       "9            2  \n",
       "10           4  \n",
       "11           9  "
      ]
     },
     "execution_count": 97,
     "metadata": {},
     "output_type": "execute_result"
    }
   ],
   "source": [
    "messages_df.head(10)"
   ]
  },
  {
   "cell_type": "markdown",
   "metadata": {},
   "source": [
    "Words used by the different people in the chat"
   ]
  },
  {
   "cell_type": "code",
   "execution_count": 120,
   "metadata": {},
   "outputs": [
    {
     "data": {
      "text/plain": [
       "Text(0, 0.5, 'Authors')"
      ]
     },
     "execution_count": 120,
     "metadata": {},
     "output_type": "execute_result"
    },
    {
     "data": {
      "image/png": "[encoded data removed]",
      "text/plain": [
       "<Figure size 432x288 with 1 Axes>"
      ]
     },
     "metadata": {
      "needs_background": "light"
     },
     "output_type": "display_data"
    }
   ],
   "source": [
    "total_word_count_grouped_by_author = messages_df[['Author', 'Word_Count']].groupby('Author').sum()\n",
    "sorted_total_word_count_grouped_by_author = total_word_count_grouped_by_author.sort_values('Word_Count', ascending=True)\n",
    "top_10_sorted_total_word_count_grouped_by_author = sorted_total_word_count_grouped_by_author.head(10)\n",
    "top_10_sorted_total_word_count_grouped_by_author.plot.barh()\n",
    "plt.xlabel('Number of Words')\n",
    "plt.ylabel('Authors')"
   ]
  },
  {
   "cell_type": "markdown",
   "metadata": {},
   "source": [
    "Most common number of words"
   ]
  },
  {
   "cell_type": "code",
   "execution_count": 121,
   "metadata": {},
   "outputs": [
    {
     "data": {
      "text/plain": [
       "Text(0, 0.5, 'Frequency')"
      ]
     },
     "execution_count": 121,
     "metadata": {},
     "output_type": "execute_result"
    },
    {
     "data": {
      "image/png": "[encoded data removed]",
      "text/plain": [
       "<Figure size 1080x144 with 1 Axes>"
      ]
     },
     "metadata": {
      "needs_background": "light"
     },
     "output_type": "display_data"
    }
   ],
   "source": [
    "\n",
    "plt.figure(figsize=(15, 2)) # To ensure that the bar plot fits in the output cell of a Jupyter notebook\n",
    "word_count_value_counts = messages_df['Word_Count'].value_counts()\n",
    "top_40_word_count_value_counts = word_count_value_counts.head(40)\n",
    "top_40_word_count_value_counts.plot.bar()\n",
    "plt.xlabel('Word Count')\n",
    "plt.ylabel('Frequency')"
   ]
  },
  {
   "cell_type": "markdown",
   "metadata": {},
   "source": [
    "Day on which the most messages where sent"
   ]
  },
  {
   "cell_type": "code",
   "execution_count": 135,
   "metadata": {},
   "outputs": [
    {
     "data": {
      "text/plain": [
       "Text(0, 0.5, 'Date')"
      ]
     },
     "execution_count": 135,
     "metadata": {},
     "output_type": "execute_result"
    },
    {
     "data": {
      "image/png": "[encoded data removed]",
      "text/plain": [
       "<Figure size 432x288 with 1 Axes>"
      ]
     },
     "metadata": {
      "needs_background": "light"
     },
     "output_type": "display_data"
    }
   ],
   "source": [
    "#Adding a sort_values reorders the bar chart from highest to lowest\n",
    "messages_df['Date'].value_counts().head(10).sort_values().plot.barh() # Top 10 Dates on which the most number of messages were sent\n",
    "plt.xlabel('Number of Messages')\n",
    "plt.ylabel('Date')"
   ]
  },
  {
   "cell_type": "markdown",
   "metadata": {},
   "source": [
    "Time of the day where most messages were sent"
   ]
  },
  {
   "cell_type": "code",
   "execution_count": 140,
   "metadata": {},
   "outputs": [
    {
     "data": {
      "text/plain": [
       "Text(0, 0.5, 'Time')"
      ]
     },
     "execution_count": 140,
     "metadata": {},
     "output_type": "execute_result"
    },
    {
     "data": {
      "image/png": "[encoded data removed]",
      "text/plain": [
       "<Figure size 432x288 with 1 Axes>"
      ]
     },
     "metadata": {
      "needs_background": "light"
     },
     "output_type": "display_data"
    }
   ],
   "source": [
    "messages_df['Time'].value_counts().head(10).sort_values().plot.barh() # Top 10 Times of the day at which the most number of messages were sent\n",
    "plt.xlabel('Number of messages')\n",
    "plt.ylabel('Time')"
   ]
  },
  {
   "cell_type": "code",
   "execution_count": 143,
   "metadata": {},
   "outputs": [
    {
     "data": {
      "text/plain": [
       "Text(0, 0.5, 'Hour of Day')"
      ]
     },
     "execution_count": 143,
     "metadata": {},
     "output_type": "execute_result"
    },
    {
     "data": {
      "image/png": "[encoded data removed]",
      "text/plain": [
       "<Figure size 432x288 with 1 Axes>"
      ]
     },
     "metadata": {
      "needs_background": "light"
     },
     "output_type": "display_data"
    }
   ],
   "source": [
    "messages_df['Hour'] = messages_df['Time'].apply(lambda x : x.split(':')[0]) # The first token of a value in the Time Column contains the hour (Eg., \"20\" in \"20:15\")\n",
    "messages_df['Hour'].value_counts().head(24).sort_index(ascending=False).plot.barh() # Top 10 Hours of the day during which the most number of messages were sent\n",
    "plt.xlabel('Number of messages')\n",
    "plt.ylabel('Hour of Day')"
   ]
  },
  {
   "cell_type": "code",
   "execution_count": 152,
   "metadata": {},
   "outputs": [
    {
     "data": {
      "text/html": [
       "<div>\n",
       "<style scoped>\n",
       "    .dataframe tbody tr th:only-of-type {\n",
       "        vertical-align: middle;\n",
       "    }\n",
       "\n",
       "    .dataframe tbody tr th {\n",
       "        vertical-align: top;\n",
       "    }\n",
       "\n",
       "    .dataframe thead th {\n",
       "        text-align: right;\n",
       "    }\n",
       "</style>\n",
       "<table border=\"1\" class=\"dataframe\">\n",
       "  <thead>\n",
       "    <tr style=\"text-align: right;\">\n",
       "      <th></th>\n",
       "      <th>Date</th>\n",
       "      <th>Time</th>\n",
       "      <th>Author</th>\n",
       "      <th>Message</th>\n",
       "      <th>Letter_Count</th>\n",
       "      <th>Word_Count</th>\n",
       "      <th>Hour</th>\n",
       "    </tr>\n",
       "  </thead>\n",
       "  <tbody>\n",
       "    <tr>\n",
       "      <td>2</td>\n",
       "      <td>2016-01-09</td>\n",
       "      <td>15:11</td>\n",
       "      <td>Dreni Mehani</td>\n",
       "      <td>Jawoll Simon wieder back</td>\n",
       "      <td>24</td>\n",
       "      <td>4</td>\n",
       "      <td>15</td>\n",
       "    </tr>\n",
       "    <tr>\n",
       "      <td>3</td>\n",
       "      <td>2016-01-09</td>\n",
       "      <td>16:14</td>\n",
       "      <td>Dreni Mehani</td>\n",
       "      <td>Begeisterung hält sich in Grenzen</td>\n",
       "      <td>33</td>\n",
       "      <td>5</td>\n",
       "      <td>16</td>\n",
       "    </tr>\n",
       "    <tr>\n",
       "      <td>4</td>\n",
       "      <td>2016-01-09</td>\n",
       "      <td>16:14</td>\n",
       "      <td>Dreni Mehani</td>\n",
       "      <td>Kopf hoch simon</td>\n",
       "      <td>15</td>\n",
       "      <td>3</td>\n",
       "      <td>16</td>\n",
       "    </tr>\n",
       "    <tr>\n",
       "      <td>5</td>\n",
       "      <td>2016-01-09</td>\n",
       "      <td>16:30</td>\n",
       "      <td>Simon Schmitz</td>\n",
       "      <td>Haha komm ich mit klar trotzdem danke meh 😄😘</td>\n",
       "      <td>44</td>\n",
       "      <td>9</td>\n",
       "      <td>16</td>\n",
       "    </tr>\n",
       "    <tr>\n",
       "      <td>6</td>\n",
       "      <td>2016-01-09</td>\n",
       "      <td>16:31</td>\n",
       "      <td>Dreni Mehani</td>\n",
       "      <td>Wie war es denn</td>\n",
       "      <td>15</td>\n",
       "      <td>4</td>\n",
       "      <td>16</td>\n",
       "    </tr>\n",
       "  </tbody>\n",
       "</table>\n",
       "</div>"
      ],
      "text/plain": [
       "        Date   Time         Author  \\\n",
       "2 2016-01-09  15:11   Dreni Mehani   \n",
       "3 2016-01-09  16:14   Dreni Mehani   \n",
       "4 2016-01-09  16:14   Dreni Mehani   \n",
       "5 2016-01-09  16:30  Simon Schmitz   \n",
       "6 2016-01-09  16:31   Dreni Mehani   \n",
       "\n",
       "                                        Message  Letter_Count  Word_Count Hour  \n",
       "2                      Jawoll Simon wieder back            24           4   15  \n",
       "3             Begeisterung hält sich in Grenzen            33           5   16  \n",
       "4                               Kopf hoch simon            15           3   16  \n",
       "5  Haha komm ich mit klar trotzdem danke meh 😄😘            44           9   16  \n",
       "6                               Wie war es denn            15           4   16  "
      ]
     },
     "execution_count": 152,
     "metadata": {},
     "output_type": "execute_result"
    }
   ],
   "source": [
    "messages_df.head()"
   ]
  },
  {
   "cell_type": "code",
   "execution_count": 172,
   "metadata": {},
   "outputs": [
    {
     "name": "stdout",
     "output_type": "stream",
     "text": [
      "8107                                       Kommt Garderobe\n",
      "9842                                                  Hhhh\n",
      "9843                                                  Ahhh\n",
      "9844                                                   Nix\n",
      "9845                                      Bin jetzt dahoam\n",
      "9853                                      Reichert 0 wir 1\n",
      "9854     Noch einmal und ich mach kein fahrer mehr für ...\n",
      "9855                                                     😎\n",
      "9861                                     Shoots been fired\n",
      "9862                                                     🔥\n",
      "11656                                                 gibt\n",
      "11657                                             Mir en a\n",
      "11658                                               Ein am\n",
      "11659                                            Und ein l\n",
      "11660                                                    K\n",
      "12670                                    Ganz ehrlich näää\n",
      "12672                      Was machst du bei Eva im Bett ?\n",
      "12674                                         Du Schlingel\n",
      "13429    Schreibt einfach vorher das ihr was startet ih...\n",
      "13621                                                  Wow\n",
      "13622                                                 Toll\n",
      "14149    Wenn man wegen dem kranken Schnee vom Schwimmb...\n",
      "16065                                  Das ist die Frage 😅\n",
      "16671                Korrekt fürs bescheid geben ihr Opfer\n",
      "17044                                         Definitiv 😂😂\n",
      "Name: Message, dtype: object\n"
     ]
    }
   ],
   "source": [
    "#Print messages that were sent at 5 in the morning. At least in my groups this is funny stuff\n",
    "mask=messages_df['Hour']== '05'\n",
    "Morgen_Gespräche = messages_df[mask]['Message']\n",
    "\n",
    "print(Morgen_Gespräche.tail(25))"
   ]
  }
 ],
 "metadata": {
  "kernelspec": {
   "display_name": "Python 3",
   "language": "python",
   "name": "python3"
  },
  "language_info": {
   "codemirror_mode": {
    "name": "ipython",
    "version": 3
   },
   "file_extension": ".py",
   "mimetype": "text/x-python",
   "name": "python",
   "nbconvert_exporter": "python",
   "pygments_lexer": "ipython3",
   "version": "3.7.4"
  }
 },
 "nbformat": 4,
 "nbformat_minor": 2
}
